{
 "nbformat": 4,
 "nbformat_minor": 0,
 "metadata": {
  "colab": {
   "provenance": [],
   "collapsed_sections": [
    "uhLt5DWhY9nz"
   ]
  },
  "kernelspec": {
   "name": "python3",
   "display_name": "Python 3"
  },
  "language_info": {
   "name": "python"
  }
 },
 "cells": [
  {
   "cell_type": "code",
   "source": [
    "#@markdown Run this cell to install Biopython\n",
    "!pip install Biopython==1.83"
   ],
   "metadata": {
    "colab": {
     "base_uri": "https://localhost:8080/"
    },
    "id": "0GnvjtJOZvZ3",
    "outputId": "2ee15ce8-9576-4222-f532-1c8efb7119b2"
   },
   "execution_count": 1,
   "outputs": [
    {
     "output_type": "stream",
     "name": "stdout",
     "text": [
      "Collecting Biopython==1.83\n",
      "  Downloading biopython-1.83-cp310-cp310-manylinux_2_17_x86_64.manylinux2014_x86_64.whl (3.1 MB)\n",
      "\u001B[2K     \u001B[90m━━━━━━━━━━━━━━━━━━━━━━━━━━━━━━━━━━━━━━━━\u001B[0m \u001B[32m3.1/3.1 MB\u001B[0m \u001B[31m10.3 MB/s\u001B[0m eta \u001B[36m0:00:00\u001B[0m\n",
      "\u001B[?25hRequirement already satisfied: numpy in /usr/local/lib/python3.10/dist-packages (from Biopython==1.83) (1.25.2)\n",
      "Installing collected packages: Biopython\n",
      "Successfully installed Biopython-1.83\n"
     ]
    }
   ]
  },
  {
   "cell_type": "code",
   "source": [
    "import Bio\n",
    "print(Bio.__version__)"
   ],
   "metadata": {
    "colab": {
     "base_uri": "https://localhost:8080/"
    },
    "id": "2mYEcAzoY_6T",
    "outputId": "5aa0c254-3e83-4dc4-984c-31f79114344f"
   },
   "execution_count": null,
   "outputs": [
    {
     "output_type": "stream",
     "name": "stdout",
     "text": [
      "1.83\n"
     ]
    }
   ]
  },
  {
   "cell_type": "markdown",
   "source": [
    "# Genomics Data Analysis\n",
    "\n",
    "**Data:** Covid19 wuhan virus - DNA sequencing data\n",
    "\n",
    "we applied the Biopython fundamentals to a real-world use case to understand how to perform sequence analysis."
   ],
   "metadata": {
    "id": "_bqEQcGd79Ia"
   }
  },
  {
   "cell_type": "markdown",
   "source": [
    "## Sequence analysis of Covid-19\n",
    "\n",
    "A sequence is a series of letters\n",
    "\n",
    "**The type of Sequence** - String together in a protein\n",
    "\n",
    "1. DNA -  A, G, C, and T\n",
    "2. RNA -  A, G, C, and U\n",
    "3. Amino acids -  D, T, S, E, P, G, A, C, V, M, I, L, Y, F, H, K, R, W, Q, and N\n"
   ],
   "metadata": {
    "id": "uhLt5DWhY9nz"
   }
  },
  {
   "cell_type": "markdown",
   "source": [
    "**Seq object**\n",
    "\n",
    "The first and the most important object to deal with sequence data in Biopython is the `Seq object`. It essentially combines a Python string with biological methods such as DNA, RNA, or protein.\n",
    "\n",
    "Each Seq object has two important attributes:\n",
    "1. Data - The actual sequence string ('ATCTGTCCTACT').\n",
    "2. Alphabet - determines type of sequence\n",
    "\n",
    "Supports 2 types of Methods:\n",
    "1. General Methods - (find, count, and so on)\n",
    "2. Nucleotide Methods - (complement, reverse_complement, transcribe, back_transcribe, translate, and so on)\n"
   ],
   "metadata": {
    "id": "wicg6kjPanJ2"
   }
  },
  {
   "cell_type": "markdown",
   "source": [
    "**SeqRecord**\n",
    "\n",
    "This object differs from the Seq object in that it holds a sequence (as a Seq object) with additional information such as identifier, name, and description."
   ],
   "metadata": {
    "id": "5w_phWEMcnAT"
   }
  },
  {
   "cell_type": "markdown",
   "source": [
    " **SeqIO Object** :\n",
    "\n",
    " supporting file formats as input and output\n",
    "\n",
    " 1. FASTA\n",
    " 2. FASTA-2line\n",
    " 3. FASTQ\n",
    " 4. GenBank or GB"
   ],
   "metadata": {
    "id": "QC8CcR5ddCvH"
   }
  },
  {
   "cell_type": "markdown",
   "source": [
    "FASTA format file"
   ],
   "metadata": {
    "id": "zHYbd4PAejwe"
   }
  },
  {
   "cell_type": "code",
   "source": [
    "from Bio import SeqIO\n",
    "\n",
    "# Open the file and iteratively parse the sequence\n",
    "# The parse() method takes two arguments\n",
    "# fh_in – the file handle and\n",
    "# fasta - the file format.\n",
    "\n",
    "with open(\"example.fasta\") as fh_in:\n",
    "    for record in SeqIO.parse(fh_in, \"fasta\"):\n",
    "        print(record.id)"
   ],
   "metadata": {
    "id": "6xA5tqllc6X1"
   },
   "execution_count": null,
   "outputs": []
  },
  {
   "cell_type": "markdown",
   "source": [
    "GenBank format file"
   ],
   "metadata": {
    "id": "qkjfstvcei8m"
   }
  },
  {
   "cell_type": "code",
   "source": [
    "with open(\"example.gbk\") as fh_in:\n",
    "    for record in SeqIO.parse(fh_in, \"genbank\"):\n",
    "        print(record.annotations)\n"
   ],
   "metadata": {
    "id": "lpO_x0qTeY_u"
   },
   "execution_count": null,
   "outputs": []
  },
  {
   "cell_type": "markdown",
   "source": [
    "Example Reord"
   ],
   "metadata": {
    "id": "AsVvLjCI7uub"
   }
  },
  {
   "cell_type": "code",
   "source": [
    "from Bio.Seq import Seq\n",
    "my_seq = Seq(\"AGTAGGACAGAT\")\n",
    "print(my_seq)"
   ],
   "metadata": {
    "colab": {
     "base_uri": "https://localhost:8080/"
    },
    "id": "VOMGumHFZrO7",
    "outputId": "765359e7-4adb-46a9-90b0-16ad1220ce4d"
   },
   "execution_count": null,
   "outputs": [
    {
     "output_type": "stream",
     "name": "stdout",
     "text": [
      "AGTAGGACAGAT\n"
     ]
    }
   ]
  },
  {
   "cell_type": "code",
   "source": [
    "print(\"Complement : \"+ my_seq.complement())\n",
    "print(\"Reverse Complement : \"+ my_seq.reverse_complement())"
   ],
   "metadata": {
    "colab": {
     "base_uri": "https://localhost:8080/"
    },
    "id": "JjgVRwf2a9tx",
    "outputId": "d5efa496-7539-4ba7-81ff-547e7f1210a5"
   },
   "execution_count": null,
   "outputs": [
    {
     "output_type": "stream",
     "name": "stdout",
     "text": [
      "Complement : TCATCCTGTCTA\n",
      "Reverse Complement : ATCTGTCCTACT\n"
     ]
    }
   ]
  },
  {
   "cell_type": "markdown",
   "source": [
    "**Goal:** is to analyze genomic data of Covid-19 with Biopython"
   ],
   "metadata": {
    "id": "0d0fMxR0a77F"
   }
  },
  {
   "cell_type": "markdown",
   "source": [
    "## Data Extraction\n",
    "\n",
    "The full sequence of the Wuhan virus can be downloaded (https://www.ncbi.nlm.nih.gov/nuccore/NC_045512.2?report=fasta); save it as covid19.fasta locally on your computer."
   ],
   "metadata": {
    "id": "Mls2lZejfB7A"
   }
  },
  {
   "cell_type": "code",
   "source": [
    "from google.colab import drive\n",
    "drive.mount('/content/drive')\n"
   ],
   "metadata": {
    "id": "VszjJ7UTfA9i",
    "colab": {
     "base_uri": "https://localhost:8080/"
    },
    "outputId": "00b86114-d94b-4ef4-d731-82736343469d"
   },
   "execution_count": null,
   "outputs": [
    {
     "output_type": "stream",
     "name": "stdout",
     "text": [
      "Mounted at /content/drive\n"
     ]
    }
   ]
  },
  {
   "cell_type": "code",
   "source": [
    "!ls /content/drive/MyDrive/Genomics/"
   ],
   "metadata": {
    "colab": {
     "base_uri": "https://localhost:8080/"
    },
    "id": "e72G9H0ghXih",
    "outputId": "acd679f3-d903-4dad-bf3a-a6bac768af7a"
   },
   "execution_count": null,
   "outputs": [
    {
     "output_type": "stream",
     "name": "stdout",
     "text": [
      "Covid19.fasta\n"
     ]
    }
   ]
  },
  {
   "cell_type": "markdown",
   "source": [
    "## Data Understanding"
   ],
   "metadata": {
    "id": "Q6_9vdqojdy8"
   }
  },
  {
   "cell_type": "code",
   "source": [
    "from Bio import SeqIO\n",
    "\n",
    "# Wuhan genome sequence\n",
    "file_path = '/content/drive/MyDrive/Genomics/Covid19.fasta'\n",
    "\n",
    "# Print name, description, number of features, sequence, and sequence length.\n",
    "with open(file_path) as fh_in:\n",
    "    for record in SeqIO.parse(fh_in, \"fasta\"):\n",
    "            print(f'sequence information: {record}')\n",
    "            print(f'sequence length: {len(record)}')\n"
   ],
   "metadata": {
    "colab": {
     "base_uri": "https://localhost:8080/"
    },
    "id": "3W_ddL-NgbXG",
    "outputId": "b9bf7caa-5f8f-48d7-b3d4-ff85b56f86f6"
   },
   "execution_count": null,
   "outputs": [
    {
     "output_type": "stream",
     "name": "stdout",
     "text": [
      "sequence information: ID: NC_045512.2\n",
      "Name: NC_045512.2\n",
      "Description: NC_045512.2 Severe acute respiratory syndrome coronavirus 2 isolate Wuhan-Hu-1, complete genome\n",
      "Number of features: 0\n",
      "Seq('ATTAAAGGTTTATACCTTCCCAGGTAACAAACCAACCAACTTTCGATCTCTTGT...AAA')\n",
      "sequence length: 29903\n"
     ]
    }
   ]
  },
  {
   "cell_type": "markdown",
   "source": [
    "### Calculating GC content\n",
    "\n",
    "GC content is one of the important features of a DNA sequence as it is an important predictor of gene function and species ecology.\n",
    "\n",
    " GC content is calculated by counting the number of Gs and Cs in the sequence and dividing that by the total sequence length."
   ],
   "metadata": {
    "id": "2FJmo6FAjNfs"
   }
  },
  {
   "cell_type": "code",
   "source": [
    "from Bio import SeqIO\n",
    "from Bio.SeqUtils import gc_fraction\n",
    "\n",
    "with open(file_path) as fh_in:\n",
    "\tfor record in SeqIO.parse(fh_in, \"fasta\"):\n",
    "\t\tprint(f\"GC content of {record} : {gc_fraction(record):.2f}\")\n",
    "\n"
   ],
   "metadata": {
    "colab": {
     "base_uri": "https://localhost:8080/"
    },
    "id": "KkU4zslEjl4M",
    "outputId": "2ab8f2e4-e1c6-4c7f-a1d7-482d4f46865e"
   },
   "execution_count": null,
   "outputs": [
    {
     "output_type": "stream",
     "name": "stdout",
     "text": [
      "GC content of ID: NC_045512.2\n",
      "Name: NC_045512.2\n",
      "Description: NC_045512.2 Severe acute respiratory syndrome coronavirus 2 isolate Wuhan-Hu-1, complete genome\n",
      "Number of features: 0\n",
      "Seq('ATTAAAGGTTTATACCTTCCCAGGTAACAAACCAACCAACTTTCGATCTCTTGT...AAA') : 0.38\n"
     ]
    }
   ]
  },
  {
   "cell_type": "markdown",
   "source": [
    "### Calculating nucleotide content"
   ],
   "metadata": {
    "id": "nrIxs5ITlwUJ"
   }
  },
  {
   "cell_type": "code",
   "source": [
    "with open(file_path) as fh_in:\n",
    "    for record in SeqIO.parse(fh_in, \"fasta\"):\n",
    "            seq_record = record.seq\n",
    "            seq_length = len(record.seq)\n",
    "            print(f'% of Ts: {round(seq_record.count(\"T\")/seq_length*100, 2)}')\n",
    "            print(f'% of As: {round(seq_record.count(\"A\")/seq_length*100, 2)}')\n",
    "            print(f'% of Cs: {round(seq_record.count(\"C\")/seq_length*100, 2)}')\n",
    "            print(f'% of Gs: {round(seq_record.count(\"G\")/seq_length*100, 2)}')"
   ],
   "metadata": {
    "colab": {
     "base_uri": "https://localhost:8080/"
    },
    "id": "0X44KJlplwEH",
    "outputId": "3e9b9d6d-eb33-4393-ecc3-3e2212d3a92e"
   },
   "execution_count": null,
   "outputs": [
    {
     "output_type": "stream",
     "name": "stdout",
     "text": [
      "% of Ts: 32.08\n",
      "% of As: 29.94\n",
      "% of Cs: 18.37\n",
      "% of Gs: 19.61\n"
     ]
    }
   ]
  },
  {
   "cell_type": "markdown",
   "source": [
    "### Dinucleotide content"
   ],
   "metadata": {
    "id": "bQ5CILcBmCNZ"
   }
  },
  {
   "cell_type": "code",
   "source": [
    "from Bio import SeqIO\n",
    "import matplotlib.pyplot as plt\n",
    "\n",
    "nucl = ['A', 'T', 'C', 'G']\n",
    "di_nucl_dict = {}\n",
    "\n",
    "with open(file_path) as fh_in:\n",
    "    for record in SeqIO.parse(fh_in, \"fasta\"):\n",
    "        for n1 in nucl:\n",
    "            for n2 in nucl:\n",
    "                di = str(n1) + str(n2)\n",
    "                di_nucl_dict[di] = record.seq.count(di)\n",
    "\n",
    "\n",
    "# Display dictionary consisting of all possible dinucleotides as keys and counts for those dinucleotides as values.\n",
    "print(di_nucl_dict)"
   ],
   "metadata": {
    "colab": {
     "base_uri": "https://localhost:8080/"
    },
    "id": "jmMS_BpgmDNs",
    "outputId": "ad915cde-eb82-4555-cb75-f1bbacda53b1"
   },
   "execution_count": null,
   "outputs": [
    {
     "output_type": "stream",
     "name": "stdout",
     "text": [
      "{'AA': 2169, 'AT': 2308, 'AC': 2023, 'AG': 1742, 'TA': 2377, 'TT': 2454, 'TC': 1413, 'TG': 2589, 'CA': 2084, 'CT': 2081, 'CC': 784, 'CG': 439, 'GA': 1612, 'GT': 1990, 'GC': 1168, 'GG': 973}\n"
     ]
    }
   ]
  },
  {
   "cell_type": "markdown",
   "source": [
    "### EDA and visualization for dinucleotide plot"
   ],
   "metadata": {
    "id": "TaOO6BP6mm04"
   }
  },
  {
   "cell_type": "code",
   "source": [
    "import matplotlib.pyplot as plt\n",
    "\n",
    "di = [k for k, v in di_nucl_dict.items()]\n",
    "counts = [v for k, v in di_nucl_dict.items()]\n",
    "print(di_nucl_dict)\n",
    "\n",
    "\n",
    "plt.bar(di,counts)\n",
    "plt.ylabel(\"Counts\")\n",
    "plt.show()"
   ],
   "metadata": {
    "colab": {
     "base_uri": "https://localhost:8080/",
     "height": 467
    },
    "id": "8bt2jgPMmpof",
    "outputId": "415338ed-f4cf-49bc-9d4e-391f13d2674e"
   },
   "execution_count": null,
   "outputs": [
    {
     "output_type": "stream",
     "name": "stdout",
     "text": [
      "{'AA': 2169, 'AT': 2308, 'AC': 2023, 'AG': 1742, 'TA': 2377, 'TT': 2454, 'TC': 1413, 'TG': 2589, 'CA': 2084, 'CT': 2081, 'CC': 784, 'CG': 439, 'GA': 1612, 'GT': 1990, 'GC': 1168, 'GG': 973}\n"
     ]
    },
    {
     "output_type": "display_data",
     "data": {
      "text/plain": [
       "<Figure size 640x480 with 1 Axes>"
      ],
      "image/png": "[encoded data removed]"
     },
     "metadata": {}
    }
   ]
  },
  {
   "cell_type": "markdown",
   "source": [
    "## Modeling\n",
    "\n",
    "Two types\n",
    "1. Statistical-based methods\n",
    "2. ML-based methods"
   ],
   "metadata": {
    "id": "nWeOxk4FnM-l"
   }
  },
  {
   "cell_type": "code",
   "source": [
    "from Bio import SeqIO\n",
    "from Bio.SeqUtils import gc_fraction\n",
    "import pandas as pd\n",
    "\n",
    "nucl = ['A', 'T', 'C', 'G']\n",
    "final_dict = {}\n",
    "\n",
    "with open(file_path) as fh_in:\n",
    "    with open(\"test.csv\", 'w') as fh_out:\n",
    "        for record in SeqIO.parse(fh_in, \"fasta\"):\n",
    "            for n1 in nucl:\n",
    "                for n2 in nucl:\n",
    "                    di = str(n1) + str(n2)\n",
    "                    final_dict[di] = record.seq.count(di)\n",
    "\n",
    "            A_count = record.seq.count('A')\n",
    "            final_dict['A_count'] = round(A_count/len(record) * 100, 2)\n",
    "            C_count = record.seq.count('C')\n",
    "            final_dict['C_count'] = round(C_count/len(record) * 100, 2)\n",
    "            G_count = record.seq.count('G')\n",
    "            final_dict['G_count'] = round(G_count/len(record) * 100, 2)\n"
   ],
   "metadata": {
    "id": "wmLY1t6goSsP"
   },
   "execution_count": null,
   "outputs": []
  },
  {
   "cell_type": "code",
   "source": [
    "!cat test.csv"
   ],
   "metadata": {
    "id": "IcNShhLr5Ol2"
   },
   "execution_count": null,
   "outputs": []
  },
  {
   "cell_type": "code",
   "source": [
    "# After Extracting the features into dictionary for di_nucl_dict\n",
    "\n",
    "\n",
    "print(di_nucl_dict)\n",
    "\n",
    "# Save it as Dataframe\n",
    "\n",
    "final_df = pd.DataFrame.from_dict([di_nucl_dict])\n",
    "final_df['virus'] = \"Covid19\"\n",
    "final_df.to_csv(\"covid19_features.csv\", index=None)"
   ],
   "metadata": {
    "colab": {
     "base_uri": "https://localhost:8080/"
    },
    "id": "i-X-p4F_nJl6",
    "outputId": "308cbea0-3c18-44f4-ed22-ceaec612951a"
   },
   "execution_count": null,
   "outputs": [
    {
     "output_type": "stream",
     "name": "stdout",
     "text": [
      "{'AA': 2169, 'AT': 2308, 'AC': 2023, 'AG': 1742, 'TA': 2377, 'TT': 2454, 'TC': 1413, 'TG': 2589, 'CA': 2084, 'CT': 2081, 'CC': 784, 'CG': 439, 'GA': 1612, 'GT': 1990, 'GC': 1168, 'GG': 973}\n"
     ]
    }
   ]
  },
  {
   "cell_type": "code",
   "source": [
    "final_df"
   ],
   "metadata": {
    "colab": {
     "base_uri": "https://localhost:8080/",
     "height": 89
    },
    "id": "BzgLeQgf5kog",
    "outputId": "51509772-3b83-434c-de3d-aa479cca10b6"
   },
   "execution_count": null,
   "outputs": [
    {
     "output_type": "execute_result",
     "data": {
      "text/plain": [
       "     AA    AT    AC    AG    TA    TT    TC    TG    CA    CT   CC   CG    GA  \\\n",
       "0  2169  2308  2023  1742  2377  2454  1413  2589  2084  2081  784  439  1612   \n",
       "\n",
       "     GT    GC   GG    virus  \n",
       "0  1990  1168  973  Covid19  "
      ],
      "text/html": [
       "\n",
       "  <div id=\"df-10d584d6-f60d-46bc-a26b-2e9a2809e542\" class=\"colab-df-container\">\n",
       "    <div>\n",
       "<style scoped>\n",
       "    .dataframe tbody tr th:only-of-type {\n",
       "        vertical-align: middle;\n",
       "    }\n",
       "\n",
       "    .dataframe tbody tr th {\n",
       "        vertical-align: top;\n",
       "    }\n",
       "\n",
       "    .dataframe thead th {\n",
       "        text-align: right;\n",
       "    }\n",
       "</style>\n",
       "<table border=\"1\" class=\"dataframe\">\n",
       "  <thead>\n",
       "    <tr style=\"text-align: right;\">\n",
       "      <th></th>\n",
       "      <th>AA</th>\n",
       "      <th>AT</th>\n",
       "      <th>AC</th>\n",
       "      <th>AG</th>\n",
       "      <th>TA</th>\n",
       "      <th>TT</th>\n",
       "      <th>TC</th>\n",
       "      <th>TG</th>\n",
       "      <th>CA</th>\n",
       "      <th>CT</th>\n",
       "      <th>CC</th>\n",
       "      <th>CG</th>\n",
       "      <th>GA</th>\n",
       "      <th>GT</th>\n",
       "      <th>GC</th>\n",
       "      <th>GG</th>\n",
       "      <th>virus</th>\n",
       "    </tr>\n",
       "  </thead>\n",
       "  <tbody>\n",
       "    <tr>\n",
       "      <th>0</th>\n",
       "      <td>2169</td>\n",
       "      <td>2308</td>\n",
       "      <td>2023</td>\n",
       "      <td>1742</td>\n",
       "      <td>2377</td>\n",
       "      <td>2454</td>\n",
       "      <td>1413</td>\n",
       "      <td>2589</td>\n",
       "      <td>2084</td>\n",
       "      <td>2081</td>\n",
       "      <td>784</td>\n",
       "      <td>439</td>\n",
       "      <td>1612</td>\n",
       "      <td>1990</td>\n",
       "      <td>1168</td>\n",
       "      <td>973</td>\n",
       "      <td>Covid19</td>\n",
       "    </tr>\n",
       "  </tbody>\n",
       "</table>\n",
       "</div>\n",
       "    <div class=\"colab-df-buttons\">\n",
       "\n",
       "  <div class=\"colab-df-container\">\n",
       "    <button class=\"colab-df-convert\" onclick=\"convertToInteractive('df-10d584d6-f60d-46bc-a26b-2e9a2809e542')\"\n",
       "            title=\"Convert this dataframe to an interactive table.\"\n",
       "            style=\"display:none;\">\n",
       "\n",
       "  <svg xmlns=\"http://www.w3.org/2000/svg\" height=\"24px\" viewBox=\"0 -960 960 960\">\n",
       "    <path d=\"M120-120v-720h720v720H120Zm60-500h600v-160H180v160Zm220 220h160v-160H400v160Zm0 220h160v-160H400v160ZM180-400h160v-160H180v160Zm440 0h160v-160H620v160ZM180-180h160v-160H180v160Zm440 0h160v-160H620v160Z\"/>\n",
       "  </svg>\n",
       "    </button>\n",
       "\n",
       "  <style>\n",
       "    .colab-df-container {\n",
       "      display:flex;\n",
       "      gap: 12px;\n",
       "    }\n",
       "\n",
       "    .colab-df-convert {\n",
       "      background-color: #E8F0FE;\n",
       "      border: none;\n",
       "      border-radius: 50%;\n",
       "      cursor: pointer;\n",
       "      display: none;\n",
       "      fill: #1967D2;\n",
       "      height: 32px;\n",
       "      padding: 0 0 0 0;\n",
       "      width: 32px;\n",
       "    }\n",
       "\n",
       "    .colab-df-convert:hover {\n",
       "      background-color: #E2EBFA;\n",
       "      box-shadow: 0px 1px 2px rgba(60, 64, 67, 0.3), 0px 1px 3px 1px rgba(60, 64, 67, 0.15);\n",
       "      fill: #174EA6;\n",
       "    }\n",
       "\n",
       "    .colab-df-buttons div {\n",
       "      margin-bottom: 4px;\n",
       "    }\n",
       "\n",
       "    [theme=dark] .colab-df-convert {\n",
       "      background-color: #3B4455;\n",
       "      fill: #D2E3FC;\n",
       "    }\n",
       "\n",
       "    [theme=dark] .colab-df-convert:hover {\n",
       "      background-color: #434B5C;\n",
       "      box-shadow: 0px 1px 3px 1px rgba(0, 0, 0, 0.15);\n",
       "      filter: drop-shadow(0px 1px 2px rgba(0, 0, 0, 0.3));\n",
       "      fill: #FFFFFF;\n",
       "    }\n",
       "  </style>\n",
       "\n",
       "    <script>\n",
       "      const buttonEl =\n",
       "        document.querySelector('#df-10d584d6-f60d-46bc-a26b-2e9a2809e542 button.colab-df-convert');\n",
       "      buttonEl.style.display =\n",
       "        google.colab.kernel.accessAllowed ? 'block' : 'none';\n",
       "\n",
       "      async function convertToInteractive(key) {\n",
       "        const element = document.querySelector('#df-10d584d6-f60d-46bc-a26b-2e9a2809e542');\n",
       "        const dataTable =\n",
       "          await google.colab.kernel.invokeFunction('convertToInteractive',\n",
       "                                                    [key], {});\n",
       "        if (!dataTable) return;\n",
       "\n",
       "        const docLinkHtml = 'Like what you see? Visit the ' +\n",
       "          '<a target=\"_blank\" href=https://colab.research.google.com/notebooks/data_table.ipynb>data table notebook</a>'\n",
       "          + ' to learn more about interactive tables.';\n",
       "        element.innerHTML = '';\n",
       "        dataTable['output_type'] = 'display_data';\n",
       "        await google.colab.output.renderOutput(dataTable, element);\n",
       "        const docLink = document.createElement('div');\n",
       "        docLink.innerHTML = docLinkHtml;\n",
       "        element.appendChild(docLink);\n",
       "      }\n",
       "    </script>\n",
       "  </div>\n",
       "\n",
       "\n",
       "  <div id=\"id_b9108e05-81df-4835-8209-0438e23684de\">\n",
       "    <style>\n",
       "      .colab-df-generate {\n",
       "        background-color: #E8F0FE;\n",
       "        border: none;\n",
       "        border-radius: 50%;\n",
       "        cursor: pointer;\n",
       "        display: none;\n",
       "        fill: #1967D2;\n",
       "        height: 32px;\n",
       "        padding: 0 0 0 0;\n",
       "        width: 32px;\n",
       "      }\n",
       "\n",
       "      .colab-df-generate:hover {\n",
       "        background-color: #E2EBFA;\n",
       "        box-shadow: 0px 1px 2px rgba(60, 64, 67, 0.3), 0px 1px 3px 1px rgba(60, 64, 67, 0.15);\n",
       "        fill: #174EA6;\n",
       "      }\n",
       "\n",
       "      [theme=dark] .colab-df-generate {\n",
       "        background-color: #3B4455;\n",
       "        fill: #D2E3FC;\n",
       "      }\n",
       "\n",
       "      [theme=dark] .colab-df-generate:hover {\n",
       "        background-color: #434B5C;\n",
       "        box-shadow: 0px 1px 3px 1px rgba(0, 0, 0, 0.15);\n",
       "        filter: drop-shadow(0px 1px 2px rgba(0, 0, 0, 0.3));\n",
       "        fill: #FFFFFF;\n",
       "      }\n",
       "    </style>\n",
       "    <button class=\"colab-df-generate\" onclick=\"generateWithVariable('final_df')\"\n",
       "            title=\"Generate code using this dataframe.\"\n",
       "            style=\"display:none;\">\n",
       "\n",
       "  <svg xmlns=\"http://www.w3.org/2000/svg\" height=\"24px\"viewBox=\"0 0 24 24\"\n",
       "       width=\"24px\">\n",
       "    <path d=\"M7,19H8.4L18.45,9,17,7.55,7,17.6ZM5,21V16.75L18.45,3.32a2,2,0,0,1,2.83,0l1.4,1.43a1.91,1.91,0,0,1,.58,1.4,1.91,1.91,0,0,1-.58,1.4L9.25,21ZM18.45,9,17,7.55Zm-12,3A5.31,5.31,0,0,0,4.9,8.1,5.31,5.31,0,0,0,1,6.5,5.31,5.31,0,0,0,4.9,4.9,5.31,5.31,0,0,0,6.5,1,5.31,5.31,0,0,0,8.1,4.9,5.31,5.31,0,0,0,12,6.5,5.46,5.46,0,0,0,6.5,12Z\"/>\n",
       "  </svg>\n",
       "    </button>\n",
       "    <script>\n",
       "      (() => {\n",
       "      const buttonEl =\n",
       "        document.querySelector('#id_b9108e05-81df-4835-8209-0438e23684de button.colab-df-generate');\n",
       "      buttonEl.style.display =\n",
       "        google.colab.kernel.accessAllowed ? 'block' : 'none';\n",
       "\n",
       "      buttonEl.onclick = () => {\n",
       "        google.colab.notebook.generateWithVariable('final_df');\n",
       "      }\n",
       "      })();\n",
       "    </script>\n",
       "  </div>\n",
       "\n",
       "    </div>\n",
       "  </div>\n"
      ],
      "application/vnd.google.colaboratory.intrinsic+json": {
       "type": "dataframe",
       "variable_name": "final_df",
       "summary": "{\n  \"name\": \"final_df\",\n  \"rows\": 1,\n  \"fields\": [\n    {\n      \"column\": \"AA\",\n      \"properties\": {\n        \"dtype\": \"number\",\n        \"std\": null,\n        \"min\": 2169,\n        \"max\": 2169,\n        \"num_unique_values\": 1,\n        \"samples\": [\n          2169\n        ],\n        \"semantic_type\": \"\",\n        \"description\": \"\"\n      }\n    },\n    {\n      \"column\": \"AT\",\n      \"properties\": {\n        \"dtype\": \"number\",\n        \"std\": null,\n        \"min\": 2308,\n        \"max\": 2308,\n        \"num_unique_values\": 1,\n        \"samples\": [\n          2308\n        ],\n        \"semantic_type\": \"\",\n        \"description\": \"\"\n      }\n    },\n    {\n      \"column\": \"AC\",\n      \"properties\": {\n        \"dtype\": \"number\",\n        \"std\": null,\n        \"min\": 2023,\n        \"max\": 2023,\n        \"num_unique_values\": 1,\n        \"samples\": [\n          2023\n        ],\n        \"semantic_type\": \"\",\n        \"description\": \"\"\n      }\n    },\n    {\n      \"column\": \"AG\",\n      \"properties\": {\n        \"dtype\": \"number\",\n        \"std\": null,\n        \"min\": 1742,\n        \"max\": 1742,\n        \"num_unique_values\": 1,\n        \"samples\": [\n          1742\n        ],\n        \"semantic_type\": \"\",\n        \"description\": \"\"\n      }\n    },\n    {\n      \"column\": \"TA\",\n      \"properties\": {\n        \"dtype\": \"number\",\n        \"std\": null,\n        \"min\": 2377,\n        \"max\": 2377,\n        \"num_unique_values\": 1,\n        \"samples\": [\n          2377\n        ],\n        \"semantic_type\": \"\",\n        \"description\": \"\"\n      }\n    },\n    {\n      \"column\": \"TT\",\n      \"properties\": {\n        \"dtype\": \"number\",\n        \"std\": null,\n        \"min\": 2454,\n        \"max\": 2454,\n        \"num_unique_values\": 1,\n        \"samples\": [\n          2454\n        ],\n        \"semantic_type\": \"\",\n        \"description\": \"\"\n      }\n    },\n    {\n      \"column\": \"TC\",\n      \"properties\": {\n        \"dtype\": \"number\",\n        \"std\": null,\n        \"min\": 1413,\n        \"max\": 1413,\n        \"num_unique_values\": 1,\n        \"samples\": [\n          1413\n        ],\n        \"semantic_type\": \"\",\n        \"description\": \"\"\n      }\n    },\n    {\n      \"column\": \"TG\",\n      \"properties\": {\n        \"dtype\": \"number\",\n        \"std\": null,\n        \"min\": 2589,\n        \"max\": 2589,\n        \"num_unique_values\": 1,\n        \"samples\": [\n          2589\n        ],\n        \"semantic_type\": \"\",\n        \"description\": \"\"\n      }\n    },\n    {\n      \"column\": \"CA\",\n      \"properties\": {\n        \"dtype\": \"number\",\n        \"std\": null,\n        \"min\": 2084,\n        \"max\": 2084,\n        \"num_unique_values\": 1,\n        \"samples\": [\n          2084\n        ],\n        \"semantic_type\": \"\",\n        \"description\": \"\"\n      }\n    },\n    {\n      \"column\": \"CT\",\n      \"properties\": {\n        \"dtype\": \"number\",\n        \"std\": null,\n        \"min\": 2081,\n        \"max\": 2081,\n        \"num_unique_values\": 1,\n        \"samples\": [\n          2081\n        ],\n        \"semantic_type\": \"\",\n        \"description\": \"\"\n      }\n    },\n    {\n      \"column\": \"CC\",\n      \"properties\": {\n        \"dtype\": \"number\",\n        \"std\": null,\n        \"min\": 784,\n        \"max\": 784,\n        \"num_unique_values\": 1,\n        \"samples\": [\n          784\n        ],\n        \"semantic_type\": \"\",\n        \"description\": \"\"\n      }\n    },\n    {\n      \"column\": \"CG\",\n      \"properties\": {\n        \"dtype\": \"number\",\n        \"std\": null,\n        \"min\": 439,\n        \"max\": 439,\n        \"num_unique_values\": 1,\n        \"samples\": [\n          439\n        ],\n        \"semantic_type\": \"\",\n        \"description\": \"\"\n      }\n    },\n    {\n      \"column\": \"GA\",\n      \"properties\": {\n        \"dtype\": \"number\",\n        \"std\": null,\n        \"min\": 1612,\n        \"max\": 1612,\n        \"num_unique_values\": 1,\n        \"samples\": [\n          1612\n        ],\n        \"semantic_type\": \"\",\n        \"description\": \"\"\n      }\n    },\n    {\n      \"column\": \"GT\",\n      \"properties\": {\n        \"dtype\": \"number\",\n        \"std\": null,\n        \"min\": 1990,\n        \"max\": 1990,\n        \"num_unique_values\": 1,\n        \"samples\": [\n          1990\n        ],\n        \"semantic_type\": \"\",\n        \"description\": \"\"\n      }\n    },\n    {\n      \"column\": \"GC\",\n      \"properties\": {\n        \"dtype\": \"number\",\n        \"std\": null,\n        \"min\": 1168,\n        \"max\": 1168,\n        \"num_unique_values\": 1,\n        \"samples\": [\n          1168\n        ],\n        \"semantic_type\": \"\",\n        \"description\": \"\"\n      }\n    },\n    {\n      \"column\": \"GG\",\n      \"properties\": {\n        \"dtype\": \"number\",\n        \"std\": null,\n        \"min\": 973,\n        \"max\": 973,\n        \"num_unique_values\": 1,\n        \"samples\": [\n          973\n        ],\n        \"semantic_type\": \"\",\n        \"description\": \"\"\n      }\n    },\n    {\n      \"column\": \"virus\",\n      \"properties\": {\n        \"dtype\": \"string\",\n        \"num_unique_values\": 1,\n        \"samples\": [\n          \"Covid19\"\n        ],\n        \"semantic_type\": \"\",\n        \"description\": \"\"\n      }\n    }\n  ]\n}"
      }
     },
     "metadata": {},
     "execution_count": 20
    }
   ]
  },
  {
   "cell_type": "code",
   "source": [
    "!cat covid19_features.csv"
   ],
   "metadata": {
    "colab": {
     "base_uri": "https://localhost:8080/"
    },
    "id": "HnglwIaG5fwL",
    "outputId": "9e7bfb9e-9b28-48e4-f87d-d66ce01c123d"
   },
   "execution_count": null,
   "outputs": [
    {
     "output_type": "stream",
     "name": "stdout",
     "text": [
      "AA,AT,AC,AG,TA,TT,TC,TG,CA,CT,CC,CG,GA,GT,GC,GG,virus\n",
      "2169,2308,2023,1742,2377,2454,1413,2589,2084,2081,784,439,1612,1990,1168,973,Covid19\n"
     ]
    }
   ]
  },
  {
   "cell_type": "markdown",
   "source": [
    "### Motif finder\n",
    "\n",
    "A motif is a pattern in a nucleotide or amino acid sequence that has a specific structure.\n",
    "\n",
    "The important attributes that are available for motif objects are\n",
    "1. Position frequency matrix (PFM) also called as count\n",
    "2."
   ],
   "metadata": {
    "id": "Z70rjF2upajn"
   }
  },
  {
   "cell_type": "code",
   "source": [
    "from Bio import motifs\n",
    "\n",
    "# create a simple DNA motif object\n",
    "my_motif = [Seq(\"ACGT\"), Seq(\"TCGA\"), Seq(\"CGGC\")]\n",
    "\n",
    "# creating a list of Seq objects\n",
    "seq = motifs.create(my_motif)\n",
    "print(seq)\n",
    "\n",
    "# print count or PFM\n",
    "print(seq.counts)"
   ],
   "metadata": {
    "colab": {
     "base_uri": "https://localhost:8080/"
    },
    "id": "dnXbOtoepc9y",
    "outputId": "af03045e-384c-4693-e825-1c0b5aa74cf7"
   },
   "execution_count": null,
   "outputs": [
    {
     "output_type": "stream",
     "name": "stdout",
     "text": [
      "ACGT\n",
      "TCGA\n",
      "CGGC\n",
      "        0      1      2      3\n",
      "A:   1.00   0.00   0.00   1.00\n",
      "C:   1.00   2.00   0.00   1.00\n",
      "G:   0.00   1.00   3.00   0.00\n",
      "T:   1.00   0.00   0.00   1.00\n"
     ]
    }
   ]
  },
  {
   "cell_type": "code",
   "source": [
    "seq.weblogo('my_motif.png')"
   ],
   "metadata": {
    "id": "2V_utn2Tpz-P"
   },
   "execution_count": null,
   "outputs": []
  },
  {
   "cell_type": "code",
   "source": [
    "!ls my_motif.png"
   ],
   "metadata": {
    "colab": {
     "base_uri": "https://localhost:8080/"
    },
    "id": "ItwDbxyg6f9X",
    "outputId": "fef2ab44-1408-49f0-b6ff-a3368b0f49d2"
   },
   "execution_count": null,
   "outputs": [
    {
     "output_type": "stream",
     "name": "stdout",
     "text": [
      "my_motif.png\n"
     ]
    }
   ]
  }
 ]
}
